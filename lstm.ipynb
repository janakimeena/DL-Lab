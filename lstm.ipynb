{
  "nbformat": 4,
  "nbformat_minor": 0,
  "metadata": {
    "colab": {
      "name": "lstm.ipynb",
      "provenance": [],
      "collapsed_sections": [],
      "authorship_tag": "ABX9TyNlAYkh5MF/k8QfPaa5KAMT",
      "include_colab_link": true
    },
    "kernelspec": {
      "name": "python3",
      "display_name": "Python 3"
    }
  },
  "cells": [
    {
      "cell_type": "markdown",
      "metadata": {
        "id": "view-in-github",
        "colab_type": "text"
      },
      "source": [
        "<a href=\"https://colab.research.google.com/github/janakimeena/DL-Lab/blob/master/lstm.ipynb\" target=\"_parent\"><img src=\"https://colab.research.google.com/assets/colab-badge.svg\" alt=\"Open In Colab\"/></a>"
      ]
    },
    {
      "cell_type": "code",
      "metadata": {
        "id": "MZml3No8sGLs",
        "colab_type": "code",
        "outputId": "6c478a4b-b719-42a1-c9e3-3707b30850af",
        "colab": {
          "base_uri": "https://localhost:8080/",
          "height": 181
        }
      },
      "source": [
        "from keras.datasets import imdb\n",
        "from keras.preprocessing import sequence\n",
        "# Number of words to consider as features\n",
        "# Cuts off texts after this many words (among the max_features most common words)\n",
        "max_features = 10000\n",
        "maxlen = 500\n",
        "batch_size = 32\n",
        "\n",
        "print('Loading data...')\n",
        "(input_train, y_train), (input_test, y_test) = imdb.load_data(\n",
        "num_words=max_features)\n",
        "print(len(input_train), 'train sequences')\n",
        "print(len(input_test), 'test sequences')\n",
        "print('Pad sequences (samples x time)')\n",
        "input_train = sequence.pad_sequences(input_train, maxlen=maxlen)\n",
        "input_test = sequence.pad_sequences(input_test, maxlen=maxlen)\n",
        "print('input_train shape:', input_train.shape)\n",
        "print('input_test shape:', input_test.shape)"
      ],
      "execution_count": 0,
      "outputs": [
        {
          "output_type": "stream",
          "text": [
            "Using TensorFlow backend.\n"
          ],
          "name": "stderr"
        },
        {
          "output_type": "stream",
          "text": [
            "Loading data...\n",
            "Downloading data from https://s3.amazonaws.com/text-datasets/imdb.npz\n",
            "17465344/17464789 [==============================] - 0s 0us/step\n",
            "25000 train sequences\n",
            "25000 test sequences\n",
            "Pad sequences (samples x time)\n",
            "input_train shape: (25000, 500)\n",
            "input_test shape: (25000, 500)\n"
          ],
          "name": "stdout"
        }
      ]
    },
    {
      "cell_type": "code",
      "metadata": {
        "id": "zEB9lkXUvrcK",
        "colab_type": "code",
        "outputId": "6f8a884b-2e66-4748-b836-c8b01cc682fe",
        "colab": {
          "base_uri": "https://localhost:8080/",
          "height": 455
        }
      },
      "source": [
        "from keras.layers import LSTM\n",
        "from keras.models import Sequential\n",
        "from keras.layers import Embedding\n",
        "from keras.layers import Dense\n",
        "model = Sequential()\n",
        "model.add(Embedding(max_features, 32))\n",
        "model.add(LSTM(32,return_sequences = True))\n",
        "model.add(LSTM(32,return_sequences = True))\n",
        "model.add(LSTM(32,return_sequences = True))\n",
        "model.add(LSTM(32))\n",
        "model.add(Dense(1, activation='sigmoid'))\n",
        "model.compile(optimizer='rmsprop',\n",
        "loss='binary_crossentropy',\n",
        "metrics=['acc'])\n",
        "history = model.fit(input_train, y_train,\n",
        "epochs=10,\n",
        "batch_size=128,\n",
        "validation_split=0.2)"
      ],
      "execution_count": 0,
      "outputs": [
        {
          "output_type": "stream",
          "text": [
            "/usr/local/lib/python3.6/dist-packages/tensorflow/python/framework/indexed_slices.py:434: UserWarning: Converting sparse IndexedSlices to a dense Tensor of unknown shape. This may consume a large amount of memory.\n",
            "  \"Converting sparse IndexedSlices to a dense Tensor of unknown shape. \"\n"
          ],
          "name": "stderr"
        },
        {
          "output_type": "stream",
          "text": [
            "Train on 20000 samples, validate on 5000 samples\n",
            "Epoch 1/10\n",
            "20000/20000 [==============================] - 250s 12ms/step - loss: 0.4892 - acc: 0.7546 - val_loss: 0.5060 - val_acc: 0.7616\n",
            "Epoch 2/10\n",
            "20000/20000 [==============================] - 249s 12ms/step - loss: 0.3074 - acc: 0.8760 - val_loss: 0.3485 - val_acc: 0.8576\n",
            "Epoch 3/10\n",
            "20000/20000 [==============================] - 248s 12ms/step - loss: 0.2431 - acc: 0.9085 - val_loss: 0.3888 - val_acc: 0.8374\n",
            "Epoch 4/10\n",
            "20000/20000 [==============================] - 248s 12ms/step - loss: 0.2081 - acc: 0.9229 - val_loss: 0.4259 - val_acc: 0.8654\n",
            "Epoch 5/10\n",
            "20000/20000 [==============================] - 248s 12ms/step - loss: 0.1815 - acc: 0.9366 - val_loss: 0.3637 - val_acc: 0.8522\n",
            "Epoch 6/10\n",
            "20000/20000 [==============================] - 250s 12ms/step - loss: 0.1561 - acc: 0.9420 - val_loss: 0.3987 - val_acc: 0.8520\n",
            "Epoch 7/10\n",
            "20000/20000 [==============================] - 251s 13ms/step - loss: 0.1421 - acc: 0.9504 - val_loss: 0.3430 - val_acc: 0.8784\n",
            "Epoch 8/10\n",
            "20000/20000 [==============================] - 251s 13ms/step - loss: 0.1259 - acc: 0.9563 - val_loss: 0.3979 - val_acc: 0.8794\n",
            "Epoch 9/10\n",
            "20000/20000 [==============================] - 258s 13ms/step - loss: 0.1086 - acc: 0.9627 - val_loss: 0.4316 - val_acc: 0.8618\n",
            "Epoch 10/10\n",
            "20000/20000 [==============================] - 253s 13ms/step - loss: 0.0964 - acc: 0.9662 - val_loss: 0.8692 - val_acc: 0.7954\n"
          ],
          "name": "stdout"
        }
      ]
    },
    {
      "cell_type": "code",
      "metadata": {
        "id": "kWC5v8qNv43c",
        "colab_type": "code",
        "outputId": "eeea24c8-b800-44d4-b948-822025586b47",
        "colab": {
          "base_uri": "https://localhost:8080/",
          "height": 545
        }
      },
      "source": [
        "import matplotlib.pyplot as plt\n",
        "acc = history.history['acc']\n",
        "val_acc = history.history['val_acc']\n",
        "loss = history.history['loss']\n",
        "val_loss = history.history['val_loss']\n",
        "epochs = range(1, len(acc) + 1)\n",
        "plt.plot(epochs, acc, 'bo', label='Training acc')\n",
        "plt.plot(epochs, val_acc, 'b', label='Validation acc')\n",
        "plt.title('Training and validation accuracy')\n",
        "plt.legend()\n",
        "plt.figure()\n",
        "plt.plot(epochs, loss, 'bo', label='Training loss')\n",
        "plt.plot(epochs, val_loss, 'b', label='Validation loss')\n",
        "plt.title('Training and validation loss')\n",
        "plt.legend()\n",
        "plt.show()"
      ],
      "execution_count": 0,
      "outputs": [
        {
          "output_type": "display_data",
          "data": {
            "image/png": "[encoded data removed]",
            "text/plain": [
              "<Figure size 432x288 with 1 Axes>"
            ]
          },
          "metadata": {
            "tags": [],
            "needs_background": "light"
          }
        },
        {
          "output_type": "display_data",
          "data": {
            "image/png": "[encoded data removed]",
            "text/plain": [
              "<Figure size 432x288 with 1 Axes>"
            ]
          },
          "metadata": {
            "tags": [],
            "needs_background": "light"
          }
        }
      ]
    },
    {
      "cell_type": "code",
      "metadata": {
        "id": "yAJ0kttbyv4d",
        "colab_type": "code",
        "colab": {}
      },
      "source": [
        ""
      ],
      "execution_count": 0,
      "outputs": []
    }
  ]
}