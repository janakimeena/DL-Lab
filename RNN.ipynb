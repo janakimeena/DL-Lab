{
  "nbformat": 4,
  "nbformat_minor": 0,
  "metadata": {
    "colab": {
      "name": "RNN.ipynb",
      "provenance": [],
      "collapsed_sections": [],
      "authorship_tag": "ABX9TyP2DT57B9cgJKrNb6+dEDtT",
      "include_colab_link": true
    },
    "kernelspec": {
      "name": "python3",
      "display_name": "Python 3"
    }
  },
  "cells": [
    {
      "cell_type": "markdown",
      "metadata": {
        "id": "view-in-github",
        "colab_type": "text"
      },
      "source": [
        "<a href=\"https://colab.research.google.com/github/janakimeena/DL-Lab/blob/master/RNN.ipynb\" target=\"_parent\"><img src=\"https://colab.research.google.com/assets/colab-badge.svg\" alt=\"Open In Colab\"/></a>"
      ]
    },
    {
      "cell_type": "code",
      "metadata": {
        "id": "47QuuPILdFYx",
        "colab_type": "code",
        "outputId": "21ad1b6c-ec70-4cb6-cbaf-6812fed32b88",
        "colab": {
          "base_uri": "https://localhost:8080/",
          "height": 54
        }
      },
      "source": [
        "from keras.preprocessing.text import Tokenizer\n",
        "samples = ['The cat sat on the mat.', 'The dog ate my homework.']\n",
        "#Creates a tokenizer, configured to only take into account the 1,000 most common words\n",
        "tokenizer = Tokenizer(num_words=1000)\n",
        "# Builds the  word index\n",
        "tokenizer.fit_on_texts(samples)\n",
        "#Turns strings into lists of integer indices\n",
        "sequences = tokenizer.texts_to_sequences(samples)\n",
        "one_hot_results = tokenizer.texts_to_matrix(samples, mode='binary')\n",
        "word_index = tokenizer.word_index\n",
        "print('Found %s unique tokens.' % len(word_index))"
      ],
      "execution_count": 1,
      "outputs": [
        {
          "output_type": "stream",
          "text": [
            "Using TensorFlow backend.\n"
          ],
          "name": "stderr"
        },
        {
          "output_type": "stream",
          "text": [
            "Found 9 unique tokens.\n"
          ],
          "name": "stdout"
        }
      ]
    },
    {
      "cell_type": "markdown",
      "metadata": {
        "id": "5ex_jc-xfcL_",
        "colab_type": "text"
      },
      "source": [
        "## Word Embedding\n",
        "\n",
        "A word embedding is a learned representation for text where words that have the same meaning have a similar representation.\n",
        "\n",
        "It is this approach to representing words and documents that may be considered one of the key breakthroughs of deep learning on challenging natural language processing problems.\n",
        "\n",
        "\n",
        "Reasonable to learn a new embedding space with every new task\n",
        "Fortunately, backpropagation makes this easy, and Keras\n",
        "\n",
        "https://drive.google.com/file/d/1gx-4xLf9XzTkWDQJAp7Jvcrzdv-zTMih/view?usp=sharing\n",
        "\n",
        "Each word is represented by a real-valued vector, often tens or hundreds of dimensions. This is contrasted to the thousands or millions of dimensions required for sparse word representations, such as a one-hot encoding.\n",
        "\n",
        "The distributed representation is learned based on the usage of words. This allows words that are used in similar ways to result in having similar representations, naturally capturing their meaning. "
      ]
    },
    {
      "cell_type": "code",
      "metadata": {
        "id": "ei7ZVVQLdy2b",
        "colab_type": "code",
        "colab": {}
      },
      "source": [
        "# The Embedding layer takes at least two arguments: the number of possible tokens(here, 1,000: 1 + maximum word index)\n",
        "# and the dimensionality of the embeddings (here, 64)."
      ],
      "execution_count": 0,
      "outputs": []
    },
    {
      "cell_type": "code",
      "metadata": {
        "id": "x3_eOhK0nZ8A",
        "colab_type": "code",
        "outputId": "f865113d-2549-47b3-ab37-33f3300e65bc",
        "colab": {
          "base_uri": "https://localhost:8080/",
          "height": 163
        }
      },
      "source": [
        "from keras.datasets import imdb\n",
        "from keras.preprocessing import sequence\n",
        "# Number of words to consider as features\n",
        "# Cuts off texts after this many words (among the max_features most common words)\n",
        "max_features = 10000\n",
        "maxlen = 500\n",
        "batch_size = 32\n",
        "\n",
        "print('Loading data...')\n",
        "(input_train, y_train), (input_test, y_test) = imdb.load_data(num_words=max_features)\n",
        "print(len(input_train), 'train sequences')\n",
        "print(len(input_test), 'test sequences')\n",
        "print('Pad sequences (samples x time)')\n",
        "input_train = sequence.pad_sequences(input_train, maxlen=maxlen)\n",
        "input_test = sequence.pad_sequences(input_test, maxlen=maxlen)\n",
        "print('input_train shape:', input_train.shape)\n",
        "print('input_test shape:', input_test.shape)"
      ],
      "execution_count": 0,
      "outputs": [
        {
          "output_type": "stream",
          "text": [
            "Loading data...\n",
            "Downloading data from https://s3.amazonaws.com/text-datasets/imdb.npz\n",
            "17465344/17464789 [==============================] - 0s 0us/step\n",
            "25000 train sequences\n",
            "25000 test sequences\n",
            "Pad sequences (samples x time)\n",
            "input_train shape: (25000, 500)\n",
            "input_test shape: (25000, 500)\n"
          ],
          "name": "stdout"
        }
      ]
    },
    {
      "cell_type": "code",
      "metadata": {
        "id": "0HZGKk_In1KI",
        "colab_type": "code",
        "outputId": "0c3d660b-9979-4766-b0f8-f95f5928c13a",
        "colab": {
          "base_uri": "https://localhost:8080/",
          "height": 455
        }
      },
      "source": [
        "from keras.layers import Dense\n",
        "from keras.models import Sequential\n",
        "from keras.layers import Embedding, SimpleRNN\n",
        "model = Sequential()\n",
        "model.add(Embedding(max_features, 32))\n",
        "model.add(SimpleRNN(32,return_sequences = True))\n",
        "model.add(SimpleRNN(32))\n",
        "model.add(Dense(1, activation='sigmoid'))\n",
        "model.compile(optimizer='rmsprop', loss='binary_crossentropy', metrics=['acc'])\n",
        "history = model.fit(input_train, y_train,epochs=10, batch_size=128, validation_split=0.2)"
      ],
      "execution_count": 0,
      "outputs": [
        {
          "output_type": "stream",
          "text": [
            "/usr/local/lib/python3.6/dist-packages/tensorflow/python/framework/indexed_slices.py:434: UserWarning: Converting sparse IndexedSlices to a dense Tensor of unknown shape. This may consume a large amount of memory.\n",
            "  \"Converting sparse IndexedSlices to a dense Tensor of unknown shape. \"\n"
          ],
          "name": "stderr"
        },
        {
          "output_type": "stream",
          "text": [
            "Train on 20000 samples, validate on 5000 samples\n",
            "Epoch 1/10\n",
            "20000/20000 [==============================] - 43s 2ms/step - loss: 0.6204 - acc: 0.6218 - val_loss: 0.4003 - val_acc: 0.8238\n",
            "Epoch 2/10\n",
            "20000/20000 [==============================] - 41s 2ms/step - loss: 0.3842 - acc: 0.8375 - val_loss: 0.3642 - val_acc: 0.8554\n",
            "Epoch 3/10\n",
            "20000/20000 [==============================] - 47s 2ms/step - loss: 0.2776 - acc: 0.8907 - val_loss: 0.3752 - val_acc: 0.8348\n",
            "Epoch 4/10\n",
            "20000/20000 [==============================] - 41s 2ms/step - loss: 0.1673 - acc: 0.9378 - val_loss: 0.6127 - val_acc: 0.7904\n",
            "Epoch 5/10\n",
            "20000/20000 [==============================] - 42s 2ms/step - loss: 0.1041 - acc: 0.9635 - val_loss: 0.4999 - val_acc: 0.8150\n",
            "Epoch 6/10\n",
            "20000/20000 [==============================] - 42s 2ms/step - loss: 0.0513 - acc: 0.9836 - val_loss: 0.7526 - val_acc: 0.7554\n",
            "Epoch 7/10\n",
            "20000/20000 [==============================] - 42s 2ms/step - loss: 0.0308 - acc: 0.9910 - val_loss: 0.8257 - val_acc: 0.8312\n",
            "Epoch 8/10\n",
            "20000/20000 [==============================] - 42s 2ms/step - loss: 0.0215 - acc: 0.9933 - val_loss: 0.8045 - val_acc: 0.7920\n",
            "Epoch 9/10\n",
            "20000/20000 [==============================] - 42s 2ms/step - loss: 0.0102 - acc: 0.9974 - val_loss: 0.8463 - val_acc: 0.8236\n",
            "Epoch 10/10\n",
            "20000/20000 [==============================] - 42s 2ms/step - loss: 0.0082 - acc: 0.9973 - val_loss: 0.8968 - val_acc: 0.8144\n"
          ],
          "name": "stdout"
        }
      ]
    },
    {
      "cell_type": "code",
      "metadata": {
        "id": "XMXFNTrrn4J4",
        "colab_type": "code",
        "outputId": "e564b4b4-a817-4cb3-8c43-706a65e3a86e",
        "colab": {
          "base_uri": "https://localhost:8080/",
          "height": 545
        }
      },
      "source": [
        "import matplotlib.pyplot as plt\n",
        "acc = history.history['acc']\n",
        "val_acc = history.history['val_acc']\n",
        "loss = history.history['loss']\n",
        "val_loss = history.history['val_loss']\n",
        "epochs = range(1, len(acc) + 1)\n",
        "plt.plot(epochs, acc, 'bo', label='Training acc')\n",
        "plt.plot(epochs, val_acc, 'b', label='Validation acc')\n",
        "plt.title('Training and validation accuracy')\n",
        "plt.legend()\n",
        "plt.figure()\n",
        "plt.plot(epochs, loss, 'bo', label='Training loss')\n",
        "plt.plot(epochs, val_loss, 'b', label='Validation loss')\n",
        "plt.title('Training and validation loss')\n",
        "plt.legend()\n",
        "plt.show()"
      ],
      "execution_count": 0,
      "outputs": [
        {
          "output_type": "display_data",
          "data": {
            "image/png": "[encoded data removed]",
            "text/plain": [
              "<Figure size 432x288 with 1 Axes>"
            ]
          },
          "metadata": {
            "tags": [],
            "needs_background": "light"
          }
        },
        {
          "output_type": "display_data",
          "data": {
            "image/png": "[encoded data removed]",
            "text/plain": [
              "<Figure size 432x288 with 1 Axes>"
            ]
          },
          "metadata": {
            "tags": [],
            "needs_background": "light"
          }
        }
      ]
    },
    {
      "cell_type": "code",
      "metadata": {
        "id": "ADPXHLGqpcaP",
        "colab_type": "code",
        "colab": {}
      },
      "source": [
        ""
      ],
      "execution_count": 0,
      "outputs": []
    }
  ]
}