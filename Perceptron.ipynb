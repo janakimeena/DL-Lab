{
  "nbformat": 4,
  "nbformat_minor": 0,
  "metadata": {
    "colab": {
      "name": "Perceptron.ipynb",
      "provenance": [],
      "collapsed_sections": []
    },
    "kernelspec": {
      "name": "python3",
      "display_name": "Python 3"
    }
  },
  "cells": [
    {
      "cell_type": "code",
      "metadata": {
        "id": "PBHN49Bf7E3t",
        "colab_type": "code",
        "colab": {}
      },
      "source": [
        "import sklearn.datasets\n",
        "import numpy as np\n",
        "import matplotlib.pyplot as plt\n",
        "from sklearn.metrics import accuracy_score"
      ],
      "execution_count": 0,
      "outputs": []
    },
    {
      "cell_type": "code",
      "metadata": {
        "id": "Z3lC8FmG7Z5I",
        "colab_type": "code",
        "colab": {}
      },
      "source": [
        "breast_cancer = sklearn.datasets.load_breast_cancer()"
      ],
      "execution_count": 0,
      "outputs": []
    },
    {
      "cell_type": "code",
      "metadata": {
        "id": "AZqlnnB47d0a",
        "colab_type": "code",
        "colab": {}
      },
      "source": [
        "X = breast_cancer.data\n",
        "Y = breast_cancer.target"
      ],
      "execution_count": 0,
      "outputs": []
    },
    {
      "cell_type": "code",
      "metadata": {
        "id": "fAdYkRLIBpGs",
        "colab_type": "code",
        "colab": {}
      },
      "source": [
        "from sklearn.model_selection import train_test_split"
      ],
      "execution_count": 0,
      "outputs": []
    },
    {
      "cell_type": "code",
      "metadata": {
        "id": "RajPefrOCGo6",
        "colab_type": "code",
        "colab": {}
      },
      "source": [
        "X_train,X_test, Y_train,Y_test = train_test_split(X,Y,test_size=0.1,stratify=Y, random_state=1)"
      ],
      "execution_count": 0,
      "outputs": []
    },
    {
      "cell_type": "code",
      "metadata": {
        "id": "Wgcvc6ULD7yv",
        "colab_type": "code",
        "colab": {}
      },
      "source": [
        "class Perceptron:\n",
        "  def __init__(self):\n",
        "    self.w = None\n",
        "    self.b = None\n",
        "\n",
        "  def model(self,x):\n",
        "    return 1 if(np.dot(self.w,x)>=self.b) else 0\n",
        "\n",
        "  def predict(self, X):\n",
        "    Y = []\n",
        "    for x in X:\n",
        "      result = self.model(x)\n",
        "      Y.append(result)\n",
        "    return np.array(Y)\n",
        "\n",
        "  def fit(self,X,Y,epochs,lr):\n",
        "    self.w = np.ones(X.shape[1])\n",
        "    self.b = 0\n",
        "    # accuracy oscillates so store and find maximum accuracy\n",
        "    accuracy = {}\n",
        "    max_acc = 0\n",
        "\n",
        "    for i in range(epochs):\n",
        "      for x,y in zip(X,Y):\n",
        "        y_pred = self.model(x)\n",
        "        if y_pred == 0 and y==1:\n",
        "          self.w = self.w+lr*x\n",
        "          self.b = self.b +lr*1\n",
        "        elif y_pred == 1 and y==0:\n",
        "          self.w = self.w-lr*x\n",
        "          self.b = self.b -lr*1\n",
        "      accuracy[i] = accuracy_score(self.predict(X),Y)\n",
        "      if accuracy[i]>max_acc:\n",
        "        max_acc = accuracy[i]\n",
        "        chkptw = self.w\n",
        "        chkptb = self.b\n",
        "    self.w = chkptw\n",
        "    self.b = chkptb\n",
        "    print(max_acc)\n",
        "    plt.plot(list(accuracy.values()))\n",
        "    plt.ylim([0,1])\n",
        "    plt.show()"
      ],
      "execution_count": 0,
      "outputs": []
    },
    {
      "cell_type": "code",
      "metadata": {
        "id": "q1KnB7hPIlc0",
        "colab_type": "code",
        "colab": {}
      },
      "source": [
        "percep = Perceptron()"
      ],
      "execution_count": 0,
      "outputs": []
    },
    {
      "cell_type": "code",
      "metadata": {
        "id": "r3srhqR4I8LB",
        "colab_type": "code",
        "outputId": "815eb39a-0946-4525-c141-9511aefadecd",
        "colab": {
          "base_uri": "https://localhost:8080/",
          "height": 287
        }
      },
      "source": [
        "percep.fit(X_train,Y_train,10000,0.0001) # Number of epoch - how many times to go through the data is a hyper parameter"
      ],
      "execution_count": 0,
      "outputs": [
        {
          "output_type": "stream",
          "text": [
            "0.94921875\n"
          ],
          "name": "stdout"
        },
        {
          "output_type": "display_data",
          "data": {
            "image/png": "[encoded data removed]",
            "text/plain": [
              "<Figure size 432x288 with 1 Axes>"
            ]
          },
          "metadata": {
            "tags": []
          }
        }
      ]
    },
    {
      "cell_type": "code",
      "metadata": {
        "id": "eBlH_eHiJE1W",
        "colab_type": "code",
        "outputId": "29965fc8-5222-4eb0-f3e0-2472a70c5d63",
        "colab": {
          "base_uri": "https://localhost:8080/",
          "height": 265
        }
      },
      "source": [
        "plt.plot(percep.w)\n",
        "plt.show()"
      ],
      "execution_count": 0,
      "outputs": [
        {
          "output_type": "display_data",
          "data": {
            "image/png": "[encoded data removed]",
            "text/plain": [
              "<Figure size 432x288 with 1 Axes>"
            ]
          },
          "metadata": {
            "tags": []
          }
        }
      ]
    },
    {
      "cell_type": "code",
      "metadata": {
        "id": "p2IsmhnHKYXF",
        "colab_type": "code",
        "outputId": "efb16996-2b45-447e-ecae-f8d7fbbaf936",
        "colab": {
          "base_uri": "https://localhost:8080/",
          "height": 35
        }
      },
      "source": [
        "Y_pred_train = percep.predict(X_train)\n",
        "print(accuracy_score(Y_pred_train,Y_train))"
      ],
      "execution_count": 0,
      "outputs": [
        {
          "output_type": "stream",
          "text": [
            "0.921875\n"
          ],
          "name": "stdout"
        }
      ]
    },
    {
      "cell_type": "code",
      "metadata": {
        "id": "j7e8nfZ9K8dz",
        "colab_type": "code",
        "outputId": "64ffdf49-a906-4a5f-d4d3-4d9a7faa85c6",
        "colab": {
          "base_uri": "https://localhost:8080/",
          "height": 35
        }
      },
      "source": [
        "Y_pred_test = percep.predict(X_test)\n",
        "print(accuracy_score(Y_pred_test,Y_test))"
      ],
      "execution_count": 0,
      "outputs": [
        {
          "output_type": "stream",
          "text": [
            "0.9298245614035088\n"
          ],
          "name": "stdout"
        }
      ]
    },
    {
      "cell_type": "markdown",
      "metadata": {
        "id": "TCKykjcXRWX2",
        "colab_type": "text"
      },
      "source": [
        "# Check Pointing"
      ]
    },
    {
      "cell_type": "code",
      "metadata": {
        "id": "-X1sD_T1LTkt",
        "colab_type": "code",
        "colab": {}
      },
      "source": [
        ""
      ],
      "execution_count": 0,
      "outputs": []
    }
  ]
}